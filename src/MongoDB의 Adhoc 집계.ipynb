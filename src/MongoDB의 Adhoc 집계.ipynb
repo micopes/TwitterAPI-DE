{
 "cells": [
  {
   "cell_type": "markdown",
   "id": "f5bed0be",
   "metadata": {},
   "source": [
    "## Pyspark - Mongodb\n",
    "```\n",
    "$ apt-get install apache-spark\n",
    "$ export PYSPARK_DRIVER_PYTHON=jupyter-notebook\n",
    "$ pyspark --packages org.mongodb.spark:mongo-spark-connector_2.11:2.2.0\n",
    "```"
   ]
  },
  {
   "cell_type": "code",
   "execution_count": 1,
   "id": "7d8394f8",
   "metadata": {},
   "outputs": [
    {
     "data": {
      "text/html": [
       "\n",
       "            <div>\n",
       "                <p><b>SparkSession - hive</b></p>\n",
       "                \n",
       "        <div>\n",
       "            <p><b>SparkContext</b></p>\n",
       "\n",
       "            <p><a href=\"http://192.168.94.7:4041\">Spark UI</a></p>\n",
       "\n",
       "            <dl>\n",
       "              <dt>Version</dt>\n",
       "                <dd><code>v2.2.0</code></dd>\n",
       "              <dt>Master</dt>\n",
       "                <dd><code>local[*]</code></dd>\n",
       "              <dt>AppName</dt>\n",
       "                <dd><code>PySparkShell</code></dd>\n",
       "            </dl>\n",
       "        </div>\n",
       "        \n",
       "            </div>\n",
       "        "
      ],
      "text/plain": [
       "<pyspark.sql.session.SparkSession at 0x7f1490136850>"
      ]
     },
     "execution_count": 1,
     "metadata": {},
     "output_type": "execute_result"
    }
   ],
   "source": [
    "spark"
   ]
  },
  {
   "cell_type": "code",
   "execution_count": 2,
   "id": "1aab5e76",
   "metadata": {},
   "outputs": [
    {
     "name": "stderr",
     "output_type": "stream",
     "text": [
      "21/11/06 21:52:42 WARN Utils: Truncated the string representation of a plan since it was too large. This behavior can be adjusted by setting 'spark.debug.maxToStringFields' in SparkEnv.conf.\n"
     ]
    }
   ],
   "source": [
    "df = (spark.read.format(\"com.mongodb.spark.sql.DefaultSource\").option(\"uri\", \"mongodb://localhost/twitter.sample\").load())"
   ]
  },
  {
   "cell_type": "code",
   "execution_count": 3,
   "id": "f5e9788d",
   "metadata": {},
   "outputs": [],
   "source": [
    "df.createOrReplaceTempView('tweets')"
   ]
  },
  {
   "cell_type": "code",
   "execution_count": null,
   "id": "4ff3c563",
   "metadata": {},
   "outputs": [],
   "source": [
    "query = '''\n",
    "SELECT lang, count(*) count\n",
    "FROM tweets \n",
    "WHERE delete IS NULL \n",
    "GROUP BY 1\n",
    "ORDER "
   ]
  },
  {
   "cell_type": "code",
   "execution_count": null,
   "id": "ddb52a1f",
   "metadata": {},
   "outputs": [],
   "source": []
  }
 ],
 "metadata": {
  "kernelspec": {
   "display_name": "Python 3 (ipykernel)",
   "language": "python",
   "name": "python3"
  },
  "language_info": {
   "codemirror_mode": {
    "name": "ipython",
    "version": 3
   },
   "file_extension": ".py",
   "mimetype": "text/x-python",
   "name": "python",
   "nbconvert_exporter": "python",
   "pygments_lexer": "ipython3",
   "version": "3.8.5"
  }
 },
 "nbformat": 4,
 "nbformat_minor": 5
}
